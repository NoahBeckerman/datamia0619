{
 "cells": [
  {
   "cell_type": "markdown",
   "metadata": {},
   "source": [
    "# Before your start:\n",
    "\n",
    "    Read the README.md file\n",
    "    Comment as much as you can and use the resources (README.md file)\n",
    "    Happy learning!\n",
    "    Please note: All calculations must be done in python. \n",
    "    Please round the final answer to three decimal places. "
   ]
  },
  {
   "cell_type": "markdown",
   "metadata": {},
   "source": [
    "## Bernoulli's Distribution"
   ]
  },
  {
   "cell_type": "markdown",
   "metadata": {},
   "source": [
    "### In a basket containing apples and oranges, there are 60 apples and 40 oranges. "
   ]
  },
  {
   "cell_type": "markdown",
   "metadata": {},
   "source": [
    "#### A fruit is picked randomly from the basket. \n",
    "    1. What is the probability that the fruit is apple?\n",
    "    2. What is the probability that it is an orange?"
   ]
  },
  {
   "cell_type": "code",
   "execution_count": 1,
   "metadata": {},
   "outputs": [],
   "source": [
    "import matplotlib.pyplot as plt\n",
    "import math\n",
    "import numpy as np\n",
    "from scipy import stats\n",
    "from scipy.stats import binom\n",
    "from scipy.stats import poisson"
   ]
  },
  {
   "cell_type": "code",
   "execution_count": 2,
   "metadata": {},
   "outputs": [
    {
     "name": "stdout",
     "output_type": "stream",
     "text": [
      "Probability of Apple(p) = 0.6\n",
      "Probability of Orange(q) = 0.4\n"
     ]
    }
   ],
   "source": [
    "# p = probability that the fruit is an apple \n",
    "# q = probability that the fruit is an orange\n",
    "apples = 60\n",
    "oranges = 40\n",
    "total_fruit = apples + oranges \n",
    "\n",
    "p = apples / total_fruit\n",
    "print(\"Probability of Apple(p) = {0}\".format(str(p)))\n",
    "\n",
    "q = oranges / total_fruit\n",
    "print(\"Probability of Orange(q) = {0}\".format(str(q)))"
   ]
  },
  {
   "cell_type": "markdown",
   "metadata": {},
   "source": [
    "#### Now we take a random sample of 20 fruits with replacement. \n",
    "    What is the probability that the first 5 fruits are apples?\n",
    "    Hint: (p**5)*(q**15)"
   ]
  },
  {
   "cell_type": "code",
   "execution_count": 3,
   "metadata": {},
   "outputs": [
    {
     "data": {
      "text/plain": [
       "0.07775999999999998"
      ]
     },
     "execution_count": 3,
     "metadata": {},
     "output_type": "execute_result"
    }
   ],
   "source": [
    "# Your solution here\n",
    "(p**5)"
   ]
  },
  {
   "cell_type": "markdown",
   "metadata": {},
   "source": [
    "## Binomial Distribution"
   ]
  },
  {
   "cell_type": "markdown",
   "metadata": {},
   "source": [
    "#### Similar to the above problem, this time again we pick 20 fruits. \n",
    "    What is the probability that this time we picked 5 apples and 15 oranges?\n",
    "    Please note that this time we are not asking specifically about the \n",
    "    first picks!!"
   ]
  },
  {
   "cell_type": "code",
   "execution_count": 4,
   "metadata": {},
   "outputs": [
    {
     "data": {
      "text/plain": [
       "0.0012944935222876511"
      ]
     },
     "execution_count": 4,
     "metadata": {},
     "output_type": "execute_result"
    }
   ],
   "source": [
    "# Your solution here\n",
    "\n",
    "selection = 20\n",
    "binomial = binom(selection, p)\n",
    "binomial.pmf(5)"
   ]
  },
  {
   "cell_type": "markdown",
   "metadata": {},
   "source": [
    "#### During the lectures we also talked about CDF \n",
    "    Consider the same problem as above except that this time we are \n",
    "    interesed in the probability that less than 5 apples were selected. \n",
    "    Compute the probability?"
   ]
  },
  {
   "cell_type": "code",
   "execution_count": 5,
   "metadata": {},
   "outputs": [
    {
     "data": {
      "text/plain": [
       "0.001611524643456288"
      ]
     },
     "execution_count": 5,
     "metadata": {},
     "output_type": "execute_result"
    }
   ],
   "source": [
    "# Your solution here \n",
    "\n",
    "binomial.cdf(5)"
   ]
  },
  {
   "cell_type": "markdown",
   "metadata": {},
   "source": [
    "#### Plot the probability distributiom function for the above binomial distribution. \n",
    "    Hint: The range of x in a binomial distribution is from 0 to 'n'"
   ]
  },
  {
   "cell_type": "code",
   "execution_count": 6,
   "metadata": {},
   "outputs": [
    {
     "data": {
      "text/plain": [
       "<matplotlib.collections.LineCollection at 0x123061fd0>"
      ]
     },
     "execution_count": 6,
     "metadata": {},
     "output_type": "execute_result"
    },
    {
     "data": {
      "image/png": "[encoded data removed]",
      "text/plain": [
       "<Figure size 432x288 with 1 Axes>"
      ]
     },
     "metadata": {
      "needs_background": "light"
     },
     "output_type": "display_data"
    }
   ],
   "source": [
    "# Your code here\n",
    "%matplotlib inline\n",
    "\n",
    "x = np.arange(0, selection)\n",
    "\n",
    "fig, ax = plt.subplots(1, 1)\n",
    "ax.set_title('Binomial Distribution of P(Apple)')   \n",
    "ax.set_xlabel('Apples')     \n",
    "ax.set_ylabel('Probability of < N Apples') \n",
    "\n",
    "ax.plot(x, binom.pmf(x, selection, p), 'ro')\n",
    "ax.vlines(x, 0, binom.pmf(x, selection, p), colors='black', lw=5)"
   ]
  },
  {
   "cell_type": "markdown",
   "metadata": {},
   "source": [
    "## Poisson Distribution"
   ]
  },
  {
   "cell_type": "markdown",
   "metadata": {},
   "source": [
    "#### In this problem you are required to use the Math library in python to solve the problem\n",
    "    In the UEFA champions league tournament, the average number of goals \n",
    "    scored in a match is 2.3. What is the probability that the number of \n",
    "    goals scored in a match is 5?\n",
    "    \n",
    "    Hint: Use the exp() in the math library \n",
    "    And to find the factorial, you can use the following code:\n",
    "    math.factorial(n)\n",
    "    where n is the number you want to find the factorial of"
   ]
  },
  {
   "cell_type": "code",
   "execution_count": 7,
   "metadata": {},
   "outputs": [
    {
     "data": {
      "text/plain": [
       "0.053775025581946814"
      ]
     },
     "execution_count": 7,
     "metadata": {},
     "output_type": "execute_result"
    }
   ],
   "source": [
    "# Your code here \n",
    "po = stats.poisson(2.3)\n",
    "po.pmf(5)"
   ]
  },
  {
   "cell_type": "markdown",
   "metadata": {},
   "source": [
    "#### Draw a poisson probability distribution plot for the number of goals to be between 0 to 10"
   ]
  },
  {
   "cell_type": "code",
   "execution_count": 8,
   "metadata": {},
   "outputs": [
    {
     "data": {
      "text/plain": [
       "<matplotlib.collections.LineCollection at 0x123249710>"
      ]
     },
     "execution_count": 8,
     "metadata": {},
     "output_type": "execute_result"
    },
    {
     "data": {
      "image/png": "[encoded data removed]",
      "text/plain": [
       "<Figure size 432x288 with 1 Axes>"
      ]
     },
     "metadata": {
      "needs_background": "light"
     },
     "output_type": "display_data"
    }
   ],
   "source": [
    "#Please label the axes and give a title to the plot \n",
    "x = np.arange(0,11)\n",
    "\n",
    "fig, ax = plt.subplots(1, 1)\n",
    "ax.set_title('Poisson Distribution of UEFA Goals')   \n",
    "ax.set_xlabel('Goals Scored')     \n",
    "ax.set_ylabel('Probability')   \n",
    "\n",
    "ax.plot(x, po.pmf(x), 'ro', ms=8)\n",
    "ax.vlines(x, 0, po.pmf(x), colors='black', lw=5)"
   ]
  }
 ],
 "metadata": {
  "kernelspec": {
   "display_name": "Python 3",
   "language": "python",
   "name": "python3"
  },
  "language_info": {
   "codemirror_mode": {
    "name": "ipython",
    "version": 3
   },
   "file_extension": ".py",
   "mimetype": "text/x-python",
   "name": "python",
   "nbconvert_exporter": "python",
   "pygments_lexer": "ipython3",
   "version": "3.7.2"
  }
 },
 "nbformat": 4,
 "nbformat_minor": 2
}
