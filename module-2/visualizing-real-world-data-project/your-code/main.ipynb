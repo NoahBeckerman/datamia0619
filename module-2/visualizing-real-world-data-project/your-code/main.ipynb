{
 "cells": [
  {
   "cell_type": "markdown",
   "metadata": {},
   "source": [
    "# Visualizing Real World Data Project (07-05-19)"
   ]
  },
  {
   "cell_type": "markdown",
   "metadata": {},
   "source": [
    "## The importation of the required libraries"
   ]
  },
  {
   "cell_type": "code",
   "execution_count": 1,
   "metadata": {},
   "outputs": [
    {
     "data": {
      "text/html": [
       "<div>\n",
       "<style scoped>\n",
       "    .dataframe tbody tr th:only-of-type {\n",
       "        vertical-align: middle;\n",
       "    }\n",
       "\n",
       "    .dataframe tbody tr th {\n",
       "        vertical-align: top;\n",
       "    }\n",
       "\n",
       "    .dataframe thead th {\n",
       "        text-align: right;\n",
       "    }\n",
       "</style>\n",
       "<table border=\"1\" class=\"dataframe\">\n",
       "  <thead>\n",
       "    <tr style=\"text-align: right;\">\n",
       "      <th></th>\n",
       "      <th>Year</th>\n",
       "      <th>Population</th>\n",
       "      <th>Violent crime</th>\n",
       "      <th>Violent crime rate</th>\n",
       "      <th>Murder and nonnegligent manslaughter</th>\n",
       "      <th>Murder and nonnegligent manslaughter rate</th>\n",
       "      <th>Robbery</th>\n",
       "      <th>Robbery rate</th>\n",
       "      <th>Aggravated assault</th>\n",
       "      <th>Aggravated assault rate</th>\n",
       "      <th>Property crime</th>\n",
       "      <th>Property crime rate</th>\n",
       "      <th>Burglary</th>\n",
       "      <th>Burglary rate</th>\n",
       "      <th>Larceny-theft</th>\n",
       "      <th>Larceny-theft rate</th>\n",
       "      <th>Motor vehicle theft</th>\n",
       "      <th>Motor vehicle theft rate</th>\n",
       "    </tr>\n",
       "  </thead>\n",
       "  <tbody>\n",
       "    <tr>\n",
       "      <th>0</th>\n",
       "      <td>1997</td>\n",
       "      <td>267,783,607</td>\n",
       "      <td>1,636,096</td>\n",
       "      <td>611.0</td>\n",
       "      <td>18,208</td>\n",
       "      <td>6.8</td>\n",
       "      <td>498,534</td>\n",
       "      <td>186.2</td>\n",
       "      <td>1,023,201</td>\n",
       "      <td>382.1</td>\n",
       "      <td>11,558,475</td>\n",
       "      <td>4,316.30</td>\n",
       "      <td>2,460,526</td>\n",
       "      <td>918.8</td>\n",
       "      <td>7,743,760</td>\n",
       "      <td>2,891.80</td>\n",
       "      <td>1,354,189</td>\n",
       "      <td>505.7</td>\n",
       "    </tr>\n",
       "    <tr>\n",
       "      <th>1</th>\n",
       "      <td>1998</td>\n",
       "      <td>270,248,003</td>\n",
       "      <td>1,533,887</td>\n",
       "      <td>567.6</td>\n",
       "      <td>16,974</td>\n",
       "      <td>6.3</td>\n",
       "      <td>447,186</td>\n",
       "      <td>165.5</td>\n",
       "      <td>976,583</td>\n",
       "      <td>361.4</td>\n",
       "      <td>10,951,827</td>\n",
       "      <td>4,052.50</td>\n",
       "      <td>2,332,735</td>\n",
       "      <td>863.2</td>\n",
       "      <td>7,376,311</td>\n",
       "      <td>2,729.50</td>\n",
       "      <td>1,242,781</td>\n",
       "      <td>459.9</td>\n",
       "    </tr>\n",
       "    <tr>\n",
       "      <th>2</th>\n",
       "      <td>1999</td>\n",
       "      <td>272,690,813</td>\n",
       "      <td>1,426,044</td>\n",
       "      <td>523.0</td>\n",
       "      <td>15,522</td>\n",
       "      <td>5.7</td>\n",
       "      <td>409,371</td>\n",
       "      <td>150.1</td>\n",
       "      <td>911,740</td>\n",
       "      <td>334.3</td>\n",
       "      <td>10,208,334</td>\n",
       "      <td>3,743.60</td>\n",
       "      <td>2,100,739</td>\n",
       "      <td>770.4</td>\n",
       "      <td>6,955,520</td>\n",
       "      <td>2,550.70</td>\n",
       "      <td>1,152,075</td>\n",
       "      <td>422.5</td>\n",
       "    </tr>\n",
       "    <tr>\n",
       "      <th>3</th>\n",
       "      <td>2000</td>\n",
       "      <td>281,421,906</td>\n",
       "      <td>1,425,486</td>\n",
       "      <td>506.5</td>\n",
       "      <td>15,586</td>\n",
       "      <td>5.5</td>\n",
       "      <td>408,016</td>\n",
       "      <td>145.0</td>\n",
       "      <td>911,706</td>\n",
       "      <td>324.0</td>\n",
       "      <td>10,182,584</td>\n",
       "      <td>3,618.30</td>\n",
       "      <td>2,050,992</td>\n",
       "      <td>728.8</td>\n",
       "      <td>6,971,590</td>\n",
       "      <td>2,477.30</td>\n",
       "      <td>1,160,002</td>\n",
       "      <td>412.2</td>\n",
       "    </tr>\n",
       "    <tr>\n",
       "      <th>4</th>\n",
       "      <td>2015</td>\n",
       "      <td>285,317,559</td>\n",
       "      <td>1,439,480</td>\n",
       "      <td>504.5</td>\n",
       "      <td>16,037</td>\n",
       "      <td>5.6</td>\n",
       "      <td>423,557</td>\n",
       "      <td>148.5</td>\n",
       "      <td>909,023</td>\n",
       "      <td>318.6</td>\n",
       "      <td>10,437,189</td>\n",
       "      <td>3,658.10</td>\n",
       "      <td>2,116,531</td>\n",
       "      <td>741.8</td>\n",
       "      <td>7,092,267</td>\n",
       "      <td>2,485.70</td>\n",
       "      <td>1,228,391</td>\n",
       "      <td>430.5</td>\n",
       "    </tr>\n",
       "  </tbody>\n",
       "</table>\n",
       "</div>"
      ],
      "text/plain": [
       "   Year   Population Violent crime  Violent crime rate  \\\n",
       "0  1997  267,783,607     1,636,096               611.0   \n",
       "1  1998  270,248,003     1,533,887               567.6   \n",
       "2  1999  272,690,813     1,426,044               523.0   \n",
       "3  2000  281,421,906     1,425,486               506.5   \n",
       "4  2015  285,317,559     1,439,480               504.5   \n",
       "\n",
       "  Murder and nonnegligent manslaughter  \\\n",
       "0                               18,208   \n",
       "1                               16,974   \n",
       "2                               15,522   \n",
       "3                               15,586   \n",
       "4                               16,037   \n",
       "\n",
       "   Murder and nonnegligent manslaughter rate  Robbery  Robbery rate  \\\n",
       "0                                        6.8  498,534         186.2   \n",
       "1                                        6.3  447,186         165.5   \n",
       "2                                        5.7  409,371         150.1   \n",
       "3                                        5.5  408,016         145.0   \n",
       "4                                        5.6  423,557         148.5   \n",
       "\n",
       "  Aggravated assault  Aggravated assault rate Property crime  \\\n",
       "0          1,023,201                    382.1     11,558,475   \n",
       "1            976,583                    361.4     10,951,827   \n",
       "2            911,740                    334.3     10,208,334   \n",
       "3            911,706                    324.0     10,182,584   \n",
       "4            909,023                    318.6     10,437,189   \n",
       "\n",
       "  Property crime rate   Burglary  Burglary rate Larceny-theft  \\\n",
       "0            4,316.30  2,460,526          918.8     7,743,760   \n",
       "1            4,052.50  2,332,735          863.2     7,376,311   \n",
       "2            3,743.60  2,100,739          770.4     6,955,520   \n",
       "3            3,618.30  2,050,992          728.8     6,971,590   \n",
       "4            3,658.10  2,116,531          741.8     7,092,267   \n",
       "\n",
       "  Larceny-theft rate Motor vehicle theft  Motor vehicle theft rate  \n",
       "0           2,891.80           1,354,189                     505.7  \n",
       "1           2,729.50           1,242,781                     459.9  \n",
       "2           2,550.70           1,152,075                     422.5  \n",
       "3           2,477.30           1,160,002                     412.2  \n",
       "4           2,485.70           1,228,391                     430.5  "
      ]
     },
     "execution_count": 1,
     "metadata": {},
     "output_type": "execute_result"
    }
   ],
   "source": [
    "import pandas as pd\n",
    "import numpy as np\n",
    "import matplotlib.pyplot as plt\n",
    "import seaborn as sns\n",
    "\n",
    "%matplotlib inline\n",
    "\n",
    "# Data from: https://ucr.fbi.gov/crime-in-the-u.s/2016/crime-in-the-u.s.-2016/tables/table-1\n",
    "# Rape cols removed due to large varience in data...\n",
    "crime_rate = pd.read_csv('2016 CRIME RATES FBI.csv')\n",
    "crime_rate.head()"
   ]
  },
  {
   "cell_type": "markdown",
   "metadata": {},
   "source": [
    "## Scatter plot"
   ]
  },
  {
   "cell_type": "code",
   "execution_count": 2,
   "metadata": {},
   "outputs": [
    {
     "data": {
      "text/plain": [
       "<matplotlib.collections.PathCollection at 0x11fdc04e0>"
      ]
     },
     "execution_count": 2,
     "metadata": {},
     "output_type": "execute_result"
    },
    {
     "data": {
      "image/png": "[encoded data removed]",
      "text/plain": [
       "<Figure size 432x288 with 1 Axes>"
      ]
     },
     "metadata": {
      "needs_background": "light"
     },
     "output_type": "display_data"
    }
   ],
   "source": [
    "plt.xlabel('Year')\n",
    "plt.ylabel('Robbery rate')\n",
    "plt.title('Robbery rate over the years')\n",
    "plt.scatter(x=crime_rate['Year'], y=crime_rate['Robbery rate'])"
   ]
  },
  {
   "cell_type": "markdown",
   "metadata": {},
   "source": [
    "## Histogram"
   ]
  },
  {
   "cell_type": "code",
   "execution_count": 3,
   "metadata": {},
   "outputs": [
    {
     "data": {
      "text/plain": [
       "<matplotlib.axes._subplots.AxesSubplot at 0x104d02240>"
      ]
     },
     "execution_count": 3,
     "metadata": {},
     "output_type": "execute_result"
    },
    {
     "data": {
      "image/png": "[encoded data removed]",
      "text/plain": [
       "<Figure size 432x288 with 1 Axes>"
      ]
     },
     "metadata": {
      "needs_background": "light"
     },
     "output_type": "display_data"
    }
   ],
   "source": [
    "low_rob_rates = crime_rate[crime_rate['Robbery rate'] > 135]\n",
    "plt.xlabel('Year')\n",
    "plt.ylabel('Robbery Rate')\n",
    "plt.title('Roberry Rates that exceed avarage')\n",
    "low_rob_rates['Year'].hist(bins=5)"
   ]
  },
  {
   "cell_type": "markdown",
   "metadata": {},
   "source": [
    "## Barplot"
   ]
  },
  {
   "cell_type": "code",
   "execution_count": 4,
   "metadata": {},
   "outputs": [
    {
     "data": {
      "text/plain": [
       "[Text(0, 0, '1997'),\n",
       " Text(0, 0, '1998'),\n",
       " Text(0, 0, '1999'),\n",
       " Text(0, 0, '2000'),\n",
       " Text(0, 0, '2002'),\n",
       " Text(0, 0, '2003'),\n",
       " Text(0, 0, '2004'),\n",
       " Text(0, 0, '2005'),\n",
       " Text(0, 0, '2006'),\n",
       " Text(0, 0, '2007'),\n",
       " Text(0, 0, '2008'),\n",
       " Text(0, 0, '2009'),\n",
       " Text(0, 0, '2010'),\n",
       " Text(0, 0, '2011'),\n",
       " Text(0, 0, '2012'),\n",
       " Text(0, 0, '2013'),\n",
       " Text(0, 0, '2014'),\n",
       " Text(0, 0, '2015'),\n",
       " Text(0, 0, '2016')]"
      ]
     },
     "execution_count": 4,
     "metadata": {},
     "output_type": "execute_result"
    },
    {
     "data": {
      "image/png": "[encoded data removed]",
      "text/plain": [
       "<Figure size 864x576 with 1 Axes>"
      ]
     },
     "metadata": {
      "needs_background": "light"
     },
     "output_type": "display_data"
    }
   ],
   "source": [
    "ax = sns.barplot(x=\"Year\", y=\"Violent crime rate\", data=crime_rate)\n",
    "ax.set_title('Violent crime rate over the years')\n",
    "ax.figure.set_size_inches(12, 8)\n",
    "ax.set_xticklabels(ax.get_xticklabels())"
   ]
  },
  {
   "cell_type": "markdown",
   "metadata": {},
   "source": [
    "## Box Plot"
   ]
  },
  {
   "cell_type": "code",
   "execution_count": 5,
   "metadata": {},
   "outputs": [
    {
     "data": {
      "text/plain": [
       "[Text(0, 0, '1997'),\n",
       " Text(0, 0, '1998'),\n",
       " Text(0, 0, '1999'),\n",
       " Text(0, 0, '2000'),\n",
       " Text(0, 0, '2002'),\n",
       " Text(0, 0, '2003'),\n",
       " Text(0, 0, '2004'),\n",
       " Text(0, 0, '2005'),\n",
       " Text(0, 0, '2006'),\n",
       " Text(0, 0, '2007'),\n",
       " Text(0, 0, '2008'),\n",
       " Text(0, 0, '2009'),\n",
       " Text(0, 0, '2010'),\n",
       " Text(0, 0, '2011'),\n",
       " Text(0, 0, '2012'),\n",
       " Text(0, 0, '2013'),\n",
       " Text(0, 0, '2014'),\n",
       " Text(0, 0, '2015'),\n",
       " Text(0, 0, '2016')]"
      ]
     },
     "execution_count": 5,
     "metadata": {},
     "output_type": "execute_result"
    },
    {
     "data": {
      "image/png": "[encoded data removed]",
      "text/plain": [
       "<Figure size 864x576 with 1 Axes>"
      ]
     },
     "metadata": {
      "needs_background": "light"
     },
     "output_type": "display_data"
    }
   ],
   "source": [
    "ax = sns.boxplot(x=\"Year\", y=\"Motor vehicle theft rate\", data=crime_rate)\n",
    "ax.set_title('Motor vehicle theft rate over the years')\n",
    "ax.figure.set_size_inches(12, 8)\n",
    "ax.set_xticklabels(ax.get_xticklabels())"
   ]
  }
 ],
 "metadata": {
  "kernelspec": {
   "display_name": "Python 3",
   "language": "python",
   "name": "python3"
  },
  "language_info": {
   "codemirror_mode": {
    "name": "ipython",
    "version": 3
   },
   "file_extension": ".py",
   "mimetype": "text/x-python",
   "name": "python",
   "nbconvert_exporter": "python",
   "pygments_lexer": "ipython3",
   "version": "3.7.2"
  }
 },
 "nbformat": 4,
 "nbformat_minor": 2
}
