{
 "cells": [
  {
   "cell_type": "markdown",
   "metadata": {},
   "source": [
    "# lab-api-scavenger-game"
   ]
  },
  {
   "cell_type": "markdown",
   "metadata": {},
   "source": [
    "## Challenge One"
   ]
  },
  {
   "cell_type": "code",
   "execution_count": 1,
   "metadata": {},
   "outputs": [],
   "source": [
    "import requests\n",
    "import json\n",
    "import getpass\n",
    "import json\n",
    "import pandas as pd\n",
    "import base64\n",
    "\n",
    "username = 'NoahBeckerman'\n",
    "#token = getpass.getpass(prompt='Token: ', stream=None)\n",
    "\n",
    "# Create a re-usable session object with the user creds in-built\n",
    "gh_session = requests.Session()\n",
    "gh_session.auth = (username, '1be439ec6560076fd3c9362c40bcf950cf514fae')\n",
    "\n",
    "json_req = gh_session.get('https://api.github.com/repos/ironhack-datalabs/madrid-oct-2018/forks')"
   ]
  },
  {
   "cell_type": "code",
   "execution_count": 2,
   "metadata": {},
   "outputs": [
    {
     "name": "stdout",
     "output_type": "stream",
     "text": [
      "Jupyter Notebook\n",
      "Jupyter Notebook\n",
      "HTML\n",
      "Jupyter Notebook\n",
      "Jupyter Notebook\n",
      "Python\n",
      "Jupyter Notebook\n",
      "Jupyter Notebook\n",
      "Jupyter Notebook\n",
      "Jupyter Notebook\n",
      "Jupyter Notebook\n",
      "Jupyter Notebook\n"
     ]
    }
   ],
   "source": [
    "for x in range(len(json_req.json())):\n",
    "    print(pd.DataFrame(json_req.json()[x])['language'][0])"
   ]
  },
  {
   "cell_type": "markdown",
   "metadata": {},
   "source": [
    "## Challenge Two"
   ]
  },
  {
   "cell_type": "code",
   "execution_count": 3,
   "metadata": {},
   "outputs": [
    {
     "name": "stdout",
     "output_type": "stream",
     "text": [
      "33\n"
     ]
    }
   ],
   "source": [
    "query_date = '2019-01-01'\n",
    "total = 0\n",
    "\n",
    "for x in json_req.json():\n",
    "    url = x['commits_url'].replace('{/sha}', '') + '?since=' \\\n",
    "        + query_date\n",
    "    commits = json.loads(gh_session.get(url).text)\n",
    "    for commit in commits:\n",
    "        total += 1\n",
    "\n",
    "print(total)"
   ]
  },
  {
   "cell_type": "markdown",
   "metadata": {},
   "source": [
    "## Challenge Three"
   ]
  },
  {
   "cell_type": "code",
   "execution_count": 4,
   "metadata": {},
   "outputs": [
    {
     "name": "stdout",
     "output_type": "stream",
     "text": [
      "In data science, 80 percent of time spent is preparing data, 20 percent of time is spent complaining about the need to prepare data.\n"
     ]
    }
   ],
   "source": [
    "repo_url = 'https://api.github.com/repos/ironhack-datalabs/scavenger'\n",
    "url = repo_url \\\n",
    "    + '/git/trees/9308ccc8a4c34c5e3a991ee815222a9691c32476?recursive=1'\n",
    "trees = json.loads(gh_session.get(url).text)\n",
    "paths = []\n",
    "secret = []\n",
    "secret_decoded = []\n",
    "fpaths = {}\n",
    "\n",
    "for file in trees['tree']:\n",
    "    paths.append(file['path'])\n",
    "\n",
    "files = []\n",
    "for file in paths:\n",
    "    if file.endswith('.scavengerhunt'):\n",
    "        files.append(file.rsplit('/', 1)[1])\n",
    "files.sort()\n",
    "\n",
    "\n",
    "def find_file_path(f):\n",
    "    for file in trees['tree']:\n",
    "        if file['path'].endswith(f):\n",
    "            fpaths[f] = file['path']\n",
    "\n",
    "\n",
    "for file in files:\n",
    "    find_file_path(file)\n",
    "\n",
    "for file in files:\n",
    "    url = repo_url + '/contents/' + fpaths[file]\n",
    "    content = json.loads(gh_session.get(url).text)\n",
    "    message = content['content']\n",
    "    secret.append(message)\n",
    "\n",
    "\n",
    "def decoder(stringy):\n",
    "    for x in stringy:\n",
    "        secret_decoded.append(base64.b64decode(x).decode('utf-8').rstrip())\n",
    "\n",
    "\n",
    "decoder(secret)\n",
    "print(' '.join(secret_decoded))"
   ]
  }
 ],
 "metadata": {
  "kernelspec": {
   "display_name": "Python 3",
   "language": "python",
   "name": "python3"
  },
  "language_info": {
   "codemirror_mode": {
    "name": "ipython",
    "version": 3
   },
   "file_extension": ".py",
   "mimetype": "text/x-python",
   "name": "python",
   "nbconvert_exporter": "python",
   "pygments_lexer": "ipython3",
   "version": "3.7.2"
  }
 },
 "nbformat": 4,
 "nbformat_minor": 2
}
