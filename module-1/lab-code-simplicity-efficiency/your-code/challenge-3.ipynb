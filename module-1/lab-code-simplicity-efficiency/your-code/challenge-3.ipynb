{
 "cells": [
  {
   "cell_type": "code",
   "execution_count": 26,
   "metadata": {},
   "outputs": [
    {
     "name": "stdout",
     "output_type": "stream",
     "text": [
      "What is the maximal length of the triangle side? Enter a number: 15\n",
      "The longest side possible is 13\n"
     ]
    }
   ],
   "source": [
    "import math\n",
    "\n",
    "#Big thanks to Chris, he helped me figure this out. I couldn't have done it without him!\n",
    "\n",
    "#We assume if user is providing us with a integer(Hope they are smart like us ;)\n",
    "x = int(input(\"What is the maximal length of the triangle side? Enter a number: \"))\n",
    "\n",
    "def my_function(X):\n",
    "    # Chris explained the maths in detail, I cant explain it please refer to him XD\n",
    "    X -= 1\n",
    "    Y = X - 1\n",
    "    Z = math.sqrt(X**2 - Y**2)\n",
    "    while (Z % 1 != 0):\n",
    "        # If third size is not a suitable value, try again\n",
    "        if Z > Y:\n",
    "            return my_function(X)\n",
    "        # Otherwise, try next largest Y value and run the while loop again\n",
    "        else:\n",
    "            Y -= 1\n",
    "            Z = math.sqrt(X**2 - Y**2)\n",
    "    return X\n",
    "\n",
    "print(\"The longest side possible is\", my_function(x))"
   ]
  }
 ],
 "metadata": {
  "kernelspec": {
   "display_name": "Python 3",
   "language": "python",
   "name": "python3"
  },
  "language_info": {
   "codemirror_mode": {
    "name": "ipython",
    "version": 3
   },
   "file_extension": ".py",
   "mimetype": "text/x-python",
   "name": "python",
   "nbconvert_exporter": "python",
   "pygments_lexer": "ipython3",
   "version": "3.7.2"
  }
 },
 "nbformat": 4,
 "nbformat_minor": 2
}
