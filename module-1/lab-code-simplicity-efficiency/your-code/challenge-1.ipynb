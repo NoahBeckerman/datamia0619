{
 "cells": [
  {
   "cell_type": "code",
   "execution_count": 5,
   "metadata": {},
   "outputs": [
    {
     "name": "stdout",
     "output_type": "stream",
     "text": [
      "Welcome to this calculator!\n",
      "It can add and subtract whole numbers from zero to five\n",
      "Please choose your first number (0 to 5):\n",
      "2\n",
      "What do you want to do? plus or minus:\n",
      "plus\n",
      "Please choose your second number (0 to 5):\n",
      "2\n",
      "Result: 4\n",
      "\n",
      "Thanks for using this calculator, goodbye :)\n"
     ]
    }
   ],
   "source": [
    "#Shotend welcome message, no need for two print lines\n",
    "print('Welcome to this calculator!\\nIt can add and subtract whole numbers from zero to five')\n",
    "\n",
    "#Defined only accepted inputs from user\n",
    "proper_a = [str(i) for i in range(6)]\n",
    "proper_b = ['plus', 'minus']\n",
    "proper_c = proper_a\n",
    "\n",
    "#Converted users prompt from string to numbers for safer code.\n",
    "#Removed excesss statements for checking if input is valid\n",
    "a = input('Please choose your first number (0 to 5):\\n')\n",
    "while (a not in proper_a):\n",
    "    a = input('Invalid Input. Please choose your first number (0 to 5):\\n')\n",
    "    \n",
    "b = input('What do you want to do? plus or minus:\\n')\n",
    "while (b not in proper_b):\n",
    "    b = input('Invalid Input. What do you want to do? plus or minus:\\n')\n",
    "    \n",
    "c = input('Please choose your second number (0 to 5):\\n')\n",
    "while (c not in proper_c):\n",
    "    c = input('Invalid Input. Please choose your second number (0 to 5):\\n')\n",
    "\n",
    "#If/Else statement removing all of the un-needed code \n",
    "if b == 'minus':\n",
    "    print('Result: {0}\\n'.format(int(a) - int(c)))\n",
    "else :\n",
    "    print('Result: {0}\\n'.format(int(a) + int(c)))\n",
    "print(\"Thanks for using this calculator, goodbye :)\")"
   ]
  }
 ],
 "metadata": {
  "kernelspec": {
   "display_name": "Python 3",
   "language": "python",
   "name": "python3"
  },
  "language_info": {
   "codemirror_mode": {
    "name": "ipython",
    "version": 3
   },
   "file_extension": ".py",
   "mimetype": "text/x-python",
   "name": "python",
   "nbconvert_exporter": "python",
   "pygments_lexer": "ipython3",
   "version": "3.7.2"
  }
 },
 "nbformat": 4,
 "nbformat_minor": 2
}
