{
 "cells": [
  {
   "cell_type": "code",
   "execution_count": 1,
   "metadata": {},
   "outputs": [
    {
     "name": "stdout",
     "output_type": "stream",
     "text": [
      "Enter minimum string length:\n",
      "1\n",
      "Enter maximum string length:\n",
      "5\n",
      "How many random strings to generate?\n",
      "4\n",
      "['h', 'erj', 'uve6', '9x']\n"
     ]
    }
   ],
   "source": [
    "import string as stringy\n",
    "import random as r\n",
    "\n",
    "# Define function to generate random string of given size removing the need for defining librarys for lowercase \n",
    "def StrGen(size):\n",
    "    s = ''\n",
    "    for i in range(size):\n",
    "        s += r.choice(stringy.ascii_lowercase + stringy.digits)\n",
    "    return s\n",
    "\n",
    "# Get inputs (assume its always given an integer)\n",
    "min_length = int(input('Enter minimum string length:\\n'))\n",
    "max_length = int(input('Enter maximum string length:\\n'))\n",
    "\n",
    "#While statement to keep running if user does not enter a number bigger than defined minimum\n",
    "while (min_length > max_length):\n",
    "    print ('ERROR: Maximum string length must be bigger than: {0}\\n'.format(min_length))\n",
    "    max_length = int(input('Enter maximum string length:\\n'))\n",
    "    \n",
    "num_strings = int(input('How many random strings to generate?\\n'))\n",
    "\n",
    "#While statement to keep running if user does not input proper number to generate strings\n",
    "while (type(num_strings) != int):\n",
    "    print (\"ERROR: Please enter a integer value. The input [{0}] is not a positive integer.\".format(num_strings))\n",
    "    num_strings = int(input('How many random strings to generate?\\n'))\n",
    "\n",
    "# Generate randomized outputs\n",
    "str_list = []\n",
    "for i in range (num_strings):\n",
    "    str_list.append(StrGen(r.randint(min_length, max_length)))\n",
    "print(str_list)"
   ]
  }
 ],
 "metadata": {
  "kernelspec": {
   "display_name": "Python 3",
   "language": "python",
   "name": "python3"
  },
  "language_info": {
   "codemirror_mode": {
    "name": "ipython",
    "version": 3
   },
   "file_extension": ".py",
   "mimetype": "text/x-python",
   "name": "python",
   "nbconvert_exporter": "python",
   "pygments_lexer": "ipython3",
   "version": "3.7.2"
  }
 },
 "nbformat": 4,
 "nbformat_minor": 2
}
