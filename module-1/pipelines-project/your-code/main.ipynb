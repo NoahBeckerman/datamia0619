{
 "cells": [
  {
   "cell_type": "markdown",
   "metadata": {},
   "source": [
    "# Pipeline Project (06-28-19) - (Module 1 Final)"
   ]
  },
  {
   "cell_type": "markdown",
   "metadata": {},
   "source": [
    "## The importation of the required libraries"
   ]
  },
  {
   "cell_type": "code",
   "execution_count": 1,
   "metadata": {},
   "outputs": [],
   "source": [
    "import pandas as pd\n",
    "import seaborn as sns\n",
    "import matplotlib.pyplot as plt"
   ]
  },
  {
   "cell_type": "markdown",
   "metadata": {},
   "source": [
    "## Defining the Functions for (`Reading, Cleaning/Wrangling, Analyzing, and Reporting`)"
   ]
  },
  {
   "cell_type": "code",
   "execution_count": 2,
   "metadata": {},
   "outputs": [],
   "source": [
    "def read_csv():\n",
    "    data = pd.read_csv('titanic.csv')\n",
    "    return data\n",
    "\n",
    "def cleaning_wrangling(data):\n",
    "    columns_to_drop = ['SibSp', 'Parch', 'Embarked']\n",
    "    cleaned_data = data.drop(columns=columns_to_drop)\n",
    "    return cleaned_data\n",
    "\n",
    "def pass_count(data):\n",
    "    total_pass = 0\n",
    "    for x in data['PassengerId']:\n",
    "        total_pass += 1\n",
    "    return total_pass\n",
    "\n",
    "def survivor_count(data):\n",
    "    total_survivors = 0\n",
    "    for x in data['Survived']:\n",
    "        if x == 1:\n",
    "            total_survivors += 1\n",
    "    return total_survivors\n",
    "\n",
    "def gender_m_count(data):\n",
    "    total_male = 0\n",
    "    for x in data['Sex']:\n",
    "        if x == 'male':\n",
    "            total_male += 1\n",
    "    return total_male\n",
    "\n",
    "def gender_f_count(data):\n",
    "    total_female = 0\n",
    "    for x in data['Sex']:\n",
    "        if x == 'female':\n",
    "            total_female += 1\n",
    "    return total_female\n",
    "\n",
    "def analyze(data):\n",
    "    g = sns.FacetGrid(data, col=\"Sex\", row=\"Survived\", margin_titles=True)\n",
    "    return g.map(plt.hist, \"Age\",color=\"blue\");\n",
    "\n",
    "def report():\n",
    "    print(\"Total passangers: {0}\\nTotal Survivors: {1}\\nTotal Males: {2}\\nTotal Females: {3}\"\n",
    "              .format(total_pass, total_survivors, males, females))"
   ]
  },
  {
   "cell_type": "markdown",
   "metadata": {},
   "source": [
    "## Defining the variables to call the functions"
   ]
  },
  {
   "cell_type": "code",
   "execution_count": 3,
   "metadata": {},
   "outputs": [],
   "source": [
    "data = read_csv()\n",
    "cleaned_data = cleaning_wrangling(data)\n",
    "\n",
    "total_pass = pass_count(cleaned_data)\n",
    "total_survivors = survivor_count(cleaned_data)\n",
    "males = gender_m_count(cleaned_data)\n",
    "females = gender_f_count(cleaned_data)"
   ]
  },
  {
   "cell_type": "markdown",
   "metadata": {},
   "source": [
    "## Starting the reporting process"
   ]
  },
  {
   "cell_type": "code",
   "execution_count": 4,
   "metadata": {},
   "outputs": [
    {
     "name": "stdout",
     "output_type": "stream",
     "text": [
      "Total passangers: 891\n",
      "Total Survivors: 342\n",
      "Total Males: 577\n",
      "Total Females: 314\n"
     ]
    },
    {
     "data": {
      "image/png": "[encoded data removed]",
      "text/plain": [
       "<Figure size 432x432 with 4 Axes>"
      ]
     },
     "metadata": {
      "needs_background": "light"
     },
     "output_type": "display_data"
    }
   ],
   "source": [
    "report()\n",
    "barplot = analyze(cleaned_data)"
   ]
  }
 ],
 "metadata": {
  "kernelspec": {
   "display_name": "Python 3",
   "language": "python",
   "name": "python3"
  },
  "language_info": {
   "codemirror_mode": {
    "name": "ipython",
    "version": 3
   },
   "file_extension": ".py",
   "mimetype": "text/x-python",
   "name": "python",
   "nbconvert_exporter": "python",
   "pygments_lexer": "ipython3",
   "version": "3.7.2"
  }
 },
 "nbformat": 4,
 "nbformat_minor": 2
}
